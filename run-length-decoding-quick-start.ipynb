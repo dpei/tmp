{
 "cells": [
  {
   "cell_type": "code",
   "execution_count": 1,
   "metadata": {
    "_cell_guid": "b1076dfc-b9ad-4769-8c92-a6c4dae69d19",
    "_uuid": "8f2839f25d086af736a60e9eeb907d3b93b6e0e5"
   },
   "outputs": [],
   "source": [
    "\n",
    "import numpy as np # linear algebra\n",
    "import pandas as pd # data processing, CSV file I/O (e.g. pd.read_csv)\n",
    "from skimage.data import imread\n",
    "import matplotlib.pyplot as plt\n",
    "from PIL import Image\n",
    "import os"
   ]
  },
  {
   "cell_type": "code",
   "execution_count": 2,
   "metadata": {
    "_uuid": "6122ccb9e58bfac6fa5e11c86121e78d9e5151b1"
   },
   "outputs": [],
   "source": [
    "# ref: https://www.kaggle.com/paulorzp/run-length-encode-and-decode\n",
    "def rle_decode(mask_rle, shape=(768, 768)):\n",
    "    '''\n",
    "    mask_rle: run-length as string formated (start length)\n",
    "    shape: (height,width) of array to return \n",
    "    Returns numpy array, 1 - mask, 0 - background\n",
    "\n",
    "    '''\n",
    "    s = mask_rle.split()\n",
    "    starts, lengths = [np.asarray(x, dtype=int) for x in (s[0:][::2], s[1:][::2])]\n",
    "    starts -= 1\n",
    "    ends = starts + lengths\n",
    "    img = np.zeros(shape[0]*shape[1], dtype=np.uint8)\n",
    "    for lo, hi in zip(starts, ends):\n",
    "        img[lo:hi] = 1\n",
    "    return img.reshape(shape).T  # Needed to align to RLE direction"
   ]
  },
  {
   "cell_type": "code",
   "execution_count": 3,
   "metadata": {
    "_cell_guid": "79c7e3d0-c299-4dcb-8224-4455121ee9b0",
    "_uuid": "d629ff2d2480ee46fbb7e2d37f6b5fab8052498a"
   },
   "outputs": [],
   "source": [
    "masks = pd.read_csv('/home/ubuntu/input/train_ship_segmentations.csv')"
   ]
  },
  {
   "cell_type": "code",
   "execution_count": 14,
   "metadata": {
    "_uuid": "63e18e8573dbb3fe1d3ff1d72b6dc756e067d43a"
   },
   "outputs": [
    {
     "name": "stdout",
     "output_type": "stream",
     "text": [
      "total image number is: 56030\n"
     ]
    }
   ],
   "source": [
    "!mkdir /home/ubuntu/input/train_mrcnn\n",
    "# delete index later\n",
    "\n",
    "ship_image_index = ~masks.EncodedPixels.isnull()\n",
    "ship_image_ids = masks.ImageId[ship_image_index]\n",
    "# remove duplicate\n",
    "ship_image_ids = pd.Series.unique(ship_image_ids)\n",
    "print('total image number is: '+ str(sum(ship_image_index)))\n",
    "i=0\n",
    "for ImageIdFull in ship_image_ids:\n",
    "    i=i+1\n",
    "    if (i%100 == 0):\n",
    "        print(i)\n",
    "    \n",
    "    ImageId = ImageIdFull[:-4]\n",
    "    img = imread('/home/ubuntu/input/train/' + ImageId + \".jpg\")\n",
    "    \n",
    "    os.system(\"mkdir /home/ubuntu/input/train_mrcnn/\" + ImageId)\n",
    "    os.system(\"mkdir /home/ubuntu/input/train_mrcnn/\" + ImageId+\"/images\")\n",
    "    # may need to write a png\n",
    "    Image.fromarray(img).save(\"/home/ubuntu/input/train_mrcnn/\"+ ImageId+\n",
    "             \"/images/\" + ImageId + \".png\")\n",
    "    \n",
    "    os.system(\"mkdir /home/ubuntu/input/train_mrcnn/\" + ImageId.replace(\".\", \"_\")+\"/masks\")\n",
    "    img_masks = masks.loc[masks['ImageId'] == ImageIdFull, 'EncodedPixels'].tolist()\n",
    "    # Take the individual ship masks and create a single mask array for all ships\n",
    "    all_masks = np.zeros((768, 768))\n",
    "    for i in range(len(img_masks)):\n",
    "        mask = img_masks[i]\n",
    "        one_mask = rle_decode(mask)\n",
    "        one_mask[one_mask > 0] = 255\n",
    "        im = Image.fromarray(one_mask)\n",
    "        file_name = ImageId + \"_\" + str(i) + '.png'\n",
    "        im.save(\"/home/ubuntu/input/train_mrcnn/\"+ImageId+\"/masks/\"+file_name+ \".png\")"
   ]
  },
  {
   "cell_type": "code",
   "execution_count": 3,
   "metadata": {},
   "outputs": [
    {
     "data": {
      "text/plain": [
       "(3318, 12288)"
      ]
     },
     "execution_count": 3,
     "metadata": {},
     "output_type": "execute_result"
    }
   ],
   "source": [
    "ship_detection = pd.read_csv('ship_detection.csv')\n",
    "test_names = ship_detection.loc[ship_detection['p_ship'] > 0.5, ['id']]['id'].values.tolist()\n",
    "test_names_nothing = ship_detection.loc[ship_detection['p_ship'] <= 0.5, ['id']]['id'].values.tolist()\n",
    "len(test_names), len(test_names_nothing)\n",
    "# test_names[0:10]"
   ]
  },
  {
   "cell_type": "code",
   "execution_count": 16,
   "metadata": {},
   "outputs": [
    {
     "name": "stdout",
     "output_type": "stream",
     "text": [
      "100\n"
     ]
    }
   ],
   "source": []
  },
  {
   "cell_type": "code",
   "execution_count": 18,
   "metadata": {},
   "outputs": [
    {
     "name": "stdout",
     "output_type": "stream",
     "text": [
      "100\n",
      "200\n",
      "300\n",
      "400\n",
      "500\n",
      "600\n",
      "700\n",
      "800\n",
      "900\n",
      "1000\n",
      "1100\n",
      "1200\n",
      "1300\n",
      "1400\n",
      "1500\n",
      "1600\n",
      "1700\n",
      "1800\n",
      "1900\n",
      "2000\n",
      "2100\n",
      "2200\n",
      "2300\n",
      "2400\n",
      "2500\n",
      "2600\n",
      "2700\n",
      "2800\n",
      "2900\n",
      "3000\n",
      "3100\n",
      "3200\n",
      "3300\n"
     ]
    }
   ],
   "source": [
    "!mkdir /home/ubuntu/input/test_mrcnn\n",
    "i=0\n",
    "for ImageIdFull in test_names:\n",
    "    # print(ImageId)\n",
    "    i=i+1\n",
    "    if (i%100 == 0):\n",
    "        print(i)\n",
    "    ImageId = ImageIdFull[:-4]\n",
    "    img = imread('/home/ubuntu/input/test_v2/' + ImageId + \".jpg\")\n",
    "    \n",
    "    os.system(\"mkdir /home/ubuntu/input/test_mrcnn/\" + ImageId)\n",
    "    os.system(\"mkdir /home/ubuntu/input/test_mrcnn/\" + ImageId+\"/images\")\n",
    "    # may need to write a png\n",
    "    Image.fromarray(img).save(\"/home/ubuntu/input/test_mrcnn/\"+ ImageId+\n",
    "             \"/images/\" + ImageId + \".png\")"
   ]
  },
  {
   "cell_type": "code",
   "execution_count": 73,
   "metadata": {},
   "outputs": [
    {
     "data": {
      "text/plain": [
       "'cp /home/ubuntu/input/train/0002756f7.jpg /home/ubuntu/input/train_mrcnn0002756f7_jpg'"
      ]
     },
     "execution_count": 73,
     "metadata": {},
     "output_type": "execute_result"
    }
   ],
   "source": []
  },
  {
   "cell_type": "code",
   "execution_count": null,
   "metadata": {},
   "outputs": [],
   "source": []
  }
 ],
 "metadata": {
  "kernelspec": {
   "display_name": "Python 3",
   "language": "python",
   "name": "python3"
  },
  "language_info": {
   "codemirror_mode": {
    "name": "ipython",
    "version": 3
   },
   "file_extension": ".py",
   "mimetype": "text/x-python",
   "name": "python",
   "nbconvert_exporter": "python",
   "pygments_lexer": "ipython3",
   "version": "3.6.6"
  }
 },
 "nbformat": 4,
 "nbformat_minor": 1
}
