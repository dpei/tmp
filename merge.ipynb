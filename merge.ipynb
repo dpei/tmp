{
 "cells": [
  {
   "cell_type": "code",
   "execution_count": 1,
   "metadata": {},
   "outputs": [],
   "source": [
    "import pandas as pd\n",
    "import numpy as np"
   ]
  },
  {
   "cell_type": "code",
   "execution_count": 2,
   "metadata": {},
   "outputs": [],
   "source": [
    "DETECTION_TEST_PRED = '~/input/ship_detection.csv'\n",
    "MASK_RCNN = '~/input/submit.csv'"
   ]
  },
  {
   "cell_type": "code",
   "execution_count": 3,
   "metadata": {},
   "outputs": [
    {
     "data": {
      "text/plain": [
       "(15606, 3)"
      ]
     },
     "execution_count": 3,
     "metadata": {},
     "output_type": "execute_result"
    }
   ],
   "source": [
    "ship_detection = pd.read_csv(DETECTION_TEST_PRED)\n",
    "ship_detection['ImageId'] = ship_detection.id\n",
    "ship_detection.shape"
   ]
  },
  {
   "cell_type": "code",
   "execution_count": 4,
   "metadata": {},
   "outputs": [
    {
     "data": {
      "text/html": [
       "<div>\n",
       "<style scoped>\n",
       "    .dataframe tbody tr th:only-of-type {\n",
       "        vertical-align: middle;\n",
       "    }\n",
       "\n",
       "    .dataframe tbody tr th {\n",
       "        vertical-align: top;\n",
       "    }\n",
       "\n",
       "    .dataframe thead th {\n",
       "        text-align: right;\n",
       "    }\n",
       "</style>\n",
       "<table border=\"1\" class=\"dataframe\">\n",
       "  <thead>\n",
       "    <tr style=\"text-align: right;\">\n",
       "      <th></th>\n",
       "      <th>ImageId</th>\n",
       "      <th>EncodedPixels</th>\n",
       "    </tr>\n",
       "  </thead>\n",
       "  <tbody>\n",
       "    <tr>\n",
       "      <th>0</th>\n",
       "      <td>f2e9c23c0.jpg</td>\n",
       "      <td>197063 1 197830 3 198596 6 199364 6 200131 7 ...</td>\n",
       "    </tr>\n",
       "    <tr>\n",
       "      <th>1</th>\n",
       "      <td>f2e9c23c0.jpg</td>\n",
       "      <td>141746 3 142513 4 143281 4 144049 4 144817 4 ...</td>\n",
       "    </tr>\n",
       "    <tr>\n",
       "      <th>2</th>\n",
       "      <td>f0cc64d2f.jpg</td>\n",
       "      <td>393217 3 393985 4 394753 4 395521 6 396289 6 ...</td>\n",
       "    </tr>\n",
       "    <tr>\n",
       "      <th>3</th>\n",
       "      <td>9c076b8cf.jpg</td>\n",
       "      <td>23280 4 24047 6 24815 6 25583 7 26351 7 27119...</td>\n",
       "    </tr>\n",
       "    <tr>\n",
       "      <th>4</th>\n",
       "      <td>9c076b8cf.jpg</td>\n",
       "      <td>562064 4 562830 8 563597 9 564365 10 565132 1...</td>\n",
       "    </tr>\n",
       "  </tbody>\n",
       "</table>\n",
       "</div>"
      ],
      "text/plain": [
       "         ImageId                                      EncodedPixels\n",
       "0  f2e9c23c0.jpg   197063 1 197830 3 198596 6 199364 6 200131 7 ...\n",
       "1  f2e9c23c0.jpg   141746 3 142513 4 143281 4 144049 4 144817 4 ...\n",
       "2  f0cc64d2f.jpg   393217 3 393985 4 394753 4 395521 6 396289 6 ...\n",
       "3  9c076b8cf.jpg   23280 4 24047 6 24815 6 25583 7 26351 7 27119...\n",
       "4  9c076b8cf.jpg   562064 4 562830 8 563597 9 564365 10 565132 1..."
      ]
     },
     "execution_count": 4,
     "metadata": {},
     "output_type": "execute_result"
    }
   ],
   "source": [
    "mask_rcnn = pd.read_csv(MASK_RCNN)\n",
    "mask_rcnn.ImageId = mask_rcnn.ImageId + '.jpg'\n",
    "mask_rcnn.head()"
   ]
  },
  {
   "cell_type": "code",
   "execution_count": 6,
   "metadata": {},
   "outputs": [
    {
     "data": {
      "text/plain": [
       "<bound method NDFrame.head of                                            EncodedPixels        ImageId\n",
       "0                                                    NaN  51e9beaca.jpg\n",
       "1                                                    NaN  0a4d97295.jpg\n",
       "2                                                    NaN  c175e03b9.jpg\n",
       "3       137768 9 138533 15 139300 18 140068 19 140835...  8a56c9bdd.jpg\n",
       "4                                                    NaN  f52f4a484.jpg\n",
       "5                                                    NaN  59cda0b1f.jpg\n",
       "6                                                    NaN  59058a89d.jpg\n",
       "7       124124 8 124890 12 125656 15 126422 18 127188...  c0761cc48.jpg\n",
       "8                                                    NaN  ef6d3af4c.jpg\n",
       "9                                                    NaN  3576abbc5.jpg\n",
       "10                                                   NaN  30170c012.jpg\n",
       "11                                                   NaN  faaf86255.jpg\n",
       "12                                                   NaN  082c5049d.jpg\n",
       "13      148905 9 149672 11 150438 14 151205 16 151972...  da002eb00.jpg\n",
       "14                                                   NaN  c6ad36ff0.jpg\n",
       "15                                                   NaN  7eedd921a.jpg\n",
       "16                                                   NaN  4cb2e758e.jpg\n",
       "17                                                   NaN  f879b2e5e.jpg\n",
       "18                                                   NaN  eb686ae57.jpg\n",
       "19                                                   NaN  f72c9b4ed.jpg\n",
       "20      463517 6 464281 12 465050 13 465814 18 466583...  e1a547a79.jpg\n",
       "21                                                   NaN  405e8cb41.jpg\n",
       "22                                                   NaN  9ed1d2515.jpg\n",
       "23      484043 9 484808 15 485575 18 486341 21 487108...  c2ee51c02.jpg\n",
       "24                                                   NaN  36e996359.jpg\n",
       "25                                                   NaN  6cda3efc5.jpg\n",
       "26      495780 1 496544 7 497311 8 498077 10 498845 9...  317cdf378.jpg\n",
       "27                                                   NaN  2cb5d47a2.jpg\n",
       "28                                                   NaN  9763a5a22.jpg\n",
       "29                                                   NaN  4b47b6f86.jpg\n",
       "...                                                  ...            ...\n",
       "17184                                                NaN  147ca2862.jpg\n",
       "17185                                                NaN  557c4c874.jpg\n",
       "17186                                                NaN  58121dadb.jpg\n",
       "17187                                                NaN  221c2effc.jpg\n",
       "17188                                                NaN  a379041c6.jpg\n",
       "17189                                                NaN  6509db2bd.jpg\n",
       "17190                                                NaN  255782c99.jpg\n",
       "17191   352244 2 353010 6 353778 7 354546 7 355314 8 ...  f7d653f3b.jpg\n",
       "17192   191007 2 191773 6 192540 9 193307 11 194075 1...  f7d653f3b.jpg\n",
       "17193   369861 1 370627 7 371394 8 372162 9 372930 9 ...  f7d653f3b.jpg\n",
       "17194                                                NaN  7905a2e78.jpg\n",
       "17195   474175 5 474941 9 475708 12 476475 14 477242 ...  960398138.jpg\n",
       "17196   384114 7 384880 11 385648 12 386415 14 387183...  960398138.jpg\n",
       "17197   464412 8 465179 11 465947 13 466715 15 467483...  960398138.jpg\n",
       "17198                                                NaN  4da42d3ec.jpg\n",
       "17199                                                NaN  66ce9bdd9.jpg\n",
       "17200                                                NaN  df67794d8.jpg\n",
       "17201                                                NaN  80b2304d7.jpg\n",
       "17202                                                NaN  2b295a59b.jpg\n",
       "17203                                                NaN  34f511084.jpg\n",
       "17204   226639 12 227404 17 228170 20 228937 21 22970...  158c9b4d6.jpg\n",
       "17205   32858 7 33623 12 34388 16 35153 20 35918 23 3...  158c9b4d6.jpg\n",
       "17206   512732 23 513499 25 514266 27 515034 27 51580...  158c9b4d6.jpg\n",
       "17207                                                NaN  625a92940.jpg\n",
       "17208                                                NaN  d5641baeb.jpg\n",
       "17209                                                NaN  807aa661f.jpg\n",
       "17210                                                NaN  8139af2d4.jpg\n",
       "17211                                                NaN  6b9d90e02.jpg\n",
       "17212                                                NaN  befc9a03d.jpg\n",
       "17213                                                NaN  7689b3ceb.jpg\n",
       "\n",
       "[17214 rows x 2 columns]>"
      ]
     },
     "execution_count": 6,
     "metadata": {},
     "output_type": "execute_result"
    }
   ],
   "source": [
    "pred_df = pd.merge(ship_detection, mask_rcnn, on = 'ImageId', how = 'outer')\n",
    "pred_df.loc[:,['EncodedPixels', 'ImageId']].head"
   ]
  },
  {
   "cell_type": "code",
   "execution_count": 7,
   "metadata": {},
   "outputs": [],
   "source": [
    "pred_df.loc[:,['EncodedPixels', 'ImageId']].to_csv('submission.csv', index=False)"
   ]
  },
  {
   "cell_type": "markdown",
   "metadata": {},
   "source": [
    "mask"
   ]
  }
 ],
 "metadata": {
  "kernelspec": {
   "display_name": "Environment (conda_tensorflow_p36)",
   "language": "python",
   "name": "conda_tensorflow_p36"
  },
  "language_info": {
   "codemirror_mode": {
    "name": "ipython",
    "version": 3
   },
   "file_extension": ".py",
   "mimetype": "text/x-python",
   "name": "python",
   "nbconvert_exporter": "python",
   "pygments_lexer": "ipython3",
   "version": "3.6.6"
  }
 },
 "nbformat": 4,
 "nbformat_minor": 2
}
